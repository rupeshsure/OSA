{
 "cells": [
  {
   "cell_type": "code",
   "execution_count": 2,
   "id": "64c39194",
   "metadata": {},
   "outputs": [
    {
     "name": "stdout",
     "output_type": "stream",
     "text": [
      "Collecting pandas\n",
      "  Using cached pandas-1.4.2-cp39-cp39-win_amd64.whl (10.5 MB)\n",
      "Requirement already satisfied: numpy>=1.18.5 in d:\\downloads\\anconda\\envs\\1\\lib\\site-packages (from pandas) (1.22.4)\n",
      "Collecting pytz>=2020.1\n",
      "  Using cached pytz-2022.1-py2.py3-none-any.whl (503 kB)\n",
      "Requirement already satisfied: python-dateutil>=2.8.1 in d:\\downloads\\anconda\\envs\\1\\lib\\site-packages (from pandas) (2.8.2)\n",
      "Requirement already satisfied: six>=1.5 in d:\\downloads\\anconda\\envs\\1\\lib\\site-packages (from python-dateutil>=2.8.1->pandas) (1.16.0)\n",
      "Installing collected packages: pytz, pandas\n",
      "Successfully installed pandas-1.4.2 pytz-2022.1\n",
      "Requirement already satisfied: pandas in d:\\downloads\\anconda\\envs\\1\\lib\\site-packages (1.4.2)\n",
      "Requirement already satisfied: numpy>=1.18.5 in d:\\downloads\\anconda\\envs\\1\\lib\\site-packages (from pandas) (1.22.4)\n",
      "Requirement already satisfied: pytz>=2020.1 in d:\\downloads\\anconda\\envs\\1\\lib\\site-packages (from pandas) (2022.1)\n",
      "Requirement already satisfied: python-dateutil>=2.8.1 in d:\\downloads\\anconda\\envs\\1\\lib\\site-packages (from pandas) (2.8.2)\n",
      "Requirement already satisfied: six>=1.5 in d:\\downloads\\anconda\\envs\\1\\lib\\site-packages (from python-dateutil>=2.8.1->pandas) (1.16.0)\n",
      "Collecting matplotlib\n",
      "  Using cached matplotlib-3.5.2-cp39-cp39-win_amd64.whl (7.2 MB)\n",
      "Collecting pillow>=6.2.0\n",
      "  Using cached Pillow-9.1.1-cp39-cp39-win_amd64.whl (3.3 MB)\n",
      "Requirement already satisfied: packaging>=20.0 in d:\\downloads\\anconda\\envs\\1\\lib\\site-packages (from matplotlib) (21.3)\n",
      "Collecting fonttools>=4.22.0\n",
      "  Using cached fonttools-4.33.3-py3-none-any.whl (930 kB)\n",
      "Requirement already satisfied: pyparsing>=2.2.1 in d:\\downloads\\anconda\\envs\\1\\lib\\site-packages (from matplotlib) (3.0.9)\n",
      "Requirement already satisfied: numpy>=1.17 in d:\\downloads\\anconda\\envs\\1\\lib\\site-packages (from matplotlib) (1.22.4)\n",
      "Requirement already satisfied: python-dateutil>=2.7 in d:\\downloads\\anconda\\envs\\1\\lib\\site-packages (from matplotlib) (2.8.2)\n",
      "Collecting cycler>=0.10\n",
      "  Using cached cycler-0.11.0-py3-none-any.whl (6.4 kB)\n",
      "Collecting kiwisolver>=1.0.1\n",
      "  Using cached kiwisolver-1.4.2-cp39-cp39-win_amd64.whl (55 kB)\n",
      "Requirement already satisfied: six>=1.5 in d:\\downloads\\anconda\\envs\\1\\lib\\site-packages (from python-dateutil>=2.7->matplotlib) (1.16.0)\n",
      "Installing collected packages: pillow, kiwisolver, fonttools, cycler, matplotlib\n",
      "Successfully installed cycler-0.11.0 fonttools-4.33.3 kiwisolver-1.4.2 matplotlib-3.5.2 pillow-9.1.1\n",
      "Collecting seaborn\n",
      "  Using cached seaborn-0.11.2-py3-none-any.whl (292 kB)\n",
      "Requirement already satisfied: numpy>=1.15 in d:\\downloads\\anconda\\envs\\1\\lib\\site-packages (from seaborn) (1.22.4)\n",
      "Requirement already satisfied: pandas>=0.23 in d:\\downloads\\anconda\\envs\\1\\lib\\site-packages (from seaborn) (1.4.2)\n",
      "Requirement already satisfied: matplotlib>=2.2 in d:\\downloads\\anconda\\envs\\1\\lib\\site-packages (from seaborn) (3.5.2)\n",
      "Requirement already satisfied: scipy>=1.0 in d:\\downloads\\anconda\\envs\\1\\lib\\site-packages (from seaborn) (1.8.1)\n",
      "Requirement already satisfied: pyparsing>=2.2.1 in d:\\downloads\\anconda\\envs\\1\\lib\\site-packages (from matplotlib>=2.2->seaborn) (3.0.9)\n",
      "Requirement already satisfied: pillow>=6.2.0 in d:\\downloads\\anconda\\envs\\1\\lib\\site-packages (from matplotlib>=2.2->seaborn) (9.1.1)\n",
      "Requirement already satisfied: packaging>=20.0 in d:\\downloads\\anconda\\envs\\1\\lib\\site-packages (from matplotlib>=2.2->seaborn) (21.3)\n",
      "Requirement already satisfied: cycler>=0.10 in d:\\downloads\\anconda\\envs\\1\\lib\\site-packages (from matplotlib>=2.2->seaborn) (0.11.0)\n",
      "Requirement already satisfied: fonttools>=4.22.0 in d:\\downloads\\anconda\\envs\\1\\lib\\site-packages (from matplotlib>=2.2->seaborn) (4.33.3)\n",
      "Requirement already satisfied: python-dateutil>=2.7 in d:\\downloads\\anconda\\envs\\1\\lib\\site-packages (from matplotlib>=2.2->seaborn) (2.8.2)\n",
      "Requirement already satisfied: kiwisolver>=1.0.1 in d:\\downloads\\anconda\\envs\\1\\lib\\site-packages (from matplotlib>=2.2->seaborn) (1.4.2)\n",
      "Requirement already satisfied: pytz>=2020.1 in d:\\downloads\\anconda\\envs\\1\\lib\\site-packages (from pandas>=0.23->seaborn) (2022.1)\n",
      "Requirement already satisfied: six>=1.5 in d:\\downloads\\anconda\\envs\\1\\lib\\site-packages (from python-dateutil>=2.7->matplotlib>=2.2->seaborn) (1.16.0)\n",
      "Installing collected packages: seaborn\n",
      "Successfully installed seaborn-0.11.2\n",
      "Requirement already satisfied: sklearn in d:\\downloads\\anconda\\envs\\1\\lib\\site-packages (0.0)\n",
      "Requirement already satisfied: scikit-learn in d:\\downloads\\anconda\\envs\\1\\lib\\site-packages (from sklearn) (1.1.1)\n",
      "Requirement already satisfied: joblib>=1.0.0 in d:\\downloads\\anconda\\envs\\1\\lib\\site-packages (from scikit-learn->sklearn) (1.1.0)\n",
      "Requirement already satisfied: numpy>=1.17.3 in d:\\downloads\\anconda\\envs\\1\\lib\\site-packages (from scikit-learn->sklearn) (1.22.4)\n",
      "Requirement already satisfied: scipy>=1.3.2 in d:\\downloads\\anconda\\envs\\1\\lib\\site-packages (from scikit-learn->sklearn) (1.8.1)\n",
      "Requirement already satisfied: threadpoolctl>=2.0.0 in d:\\downloads\\anconda\\envs\\1\\lib\\site-packages (from scikit-learn->sklearn) (3.1.0)\n"
     ]
    }
   ],
   "source": [
    "!pip install pandas\n",
    "!pip install pandas\n",
    "!pip install matplotlib\n",
    "!pip install seaborn\n",
    "!pip install sklearn\n",
    "import pandas as pd   \n",
    "import numpy as np    \n",
    "import matplotlib.pyplot as plt \n",
    "%matplotlib inline\n",
    "%config InlineBackend.figure_formats = ['retina']\n",
    "import seaborn as sns\n",
    "import time\n",
    "import warnings\n",
    "warnings.filterwarnings(\"ignore\")\n",
    "from sklearn.model_selection import KFold, cross_val_score, GridSearchCV, StratifiedKFold\n",
    "from sklearn.linear_model import LogisticRegression\n",
    "from sklearn.neighbors import KNeighborsClassifier\n",
    "from sklearn.naive_bayes import GaussianNB, BernoulliNB, MultinomialNB\n",
    "from sklearn.tree import DecisionTreeClassifier\n",
    "from sklearn.ensemble import RandomForestClassifier\n",
    "from sklearn.svm import LinearSVC, SVC\n",
    "from sklearn import metrics\n",
    "from sklearn.metrics import confusion_matrix, classification_report\n",
    "from sklearn.metrics import accuracy_score, precision_score, recall_score, f1_score, log_loss\n",
    "from sklearn.metrics import auc, roc_curve, roc_auc_score, precision_recall_curve\n",
    "from sklearn.metrics import fbeta_score, cohen_kappa_score\n",
    "SEED = 42"
   ]
  },
  {
   "cell_type": "code",
   "execution_count": 3,
   "id": "f5afa7db",
   "metadata": {
    "scrolled": true
   },
   "outputs": [
    {
     "data": {
      "text/html": [
       "<div>\n",
       "<style scoped>\n",
       "    .dataframe tbody tr th:only-of-type {\n",
       "        vertical-align: middle;\n",
       "    }\n",
       "\n",
       "    .dataframe tbody tr th {\n",
       "        vertical-align: top;\n",
       "    }\n",
       "\n",
       "    .dataframe thead th {\n",
       "        text-align: right;\n",
       "    }\n",
       "</style>\n",
       "<table border=\"1\" class=\"dataframe\">\n",
       "  <thead>\n",
       "    <tr style=\"text-align: right;\">\n",
       "      <th></th>\n",
       "      <th>BQ</th>\n",
       "      <th>ESS</th>\n",
       "      <th>BMI</th>\n",
       "      <th>Weight</th>\n",
       "      <th>Height</th>\n",
       "      <th>Head</th>\n",
       "      <th>Neck</th>\n",
       "      <th>Waist</th>\n",
       "      <th>Buttock</th>\n",
       "      <th>Age</th>\n",
       "      <th>M</th>\n",
       "      <th>status</th>\n",
       "    </tr>\n",
       "  </thead>\n",
       "  <tbody>\n",
       "    <tr>\n",
       "      <th>0</th>\n",
       "      <td>0</td>\n",
       "      <td>14</td>\n",
       "      <td>29.06593</td>\n",
       "      <td>88</td>\n",
       "      <td>174</td>\n",
       "      <td>57.5</td>\n",
       "      <td>39</td>\n",
       "      <td>96</td>\n",
       "      <td>106</td>\n",
       "      <td>20</td>\n",
       "      <td>1</td>\n",
       "      <td>0</td>\n",
       "    </tr>\n",
       "    <tr>\n",
       "      <th>1</th>\n",
       "      <td>0</td>\n",
       "      <td>8</td>\n",
       "      <td>26.98962</td>\n",
       "      <td>78</td>\n",
       "      <td>170</td>\n",
       "      <td>57.0</td>\n",
       "      <td>36</td>\n",
       "      <td>90</td>\n",
       "      <td>100</td>\n",
       "      <td>20</td>\n",
       "      <td>1</td>\n",
       "      <td>0</td>\n",
       "    </tr>\n",
       "    <tr>\n",
       "      <th>2</th>\n",
       "      <td>0</td>\n",
       "      <td>16</td>\n",
       "      <td>23.93948</td>\n",
       "      <td>75</td>\n",
       "      <td>177</td>\n",
       "      <td>59.0</td>\n",
       "      <td>39</td>\n",
       "      <td>88</td>\n",
       "      <td>104</td>\n",
       "      <td>20</td>\n",
       "      <td>1</td>\n",
       "      <td>0</td>\n",
       "    </tr>\n",
       "    <tr>\n",
       "      <th>3</th>\n",
       "      <td>0</td>\n",
       "      <td>15</td>\n",
       "      <td>22.12974</td>\n",
       "      <td>67</td>\n",
       "      <td>174</td>\n",
       "      <td>57.0</td>\n",
       "      <td>35</td>\n",
       "      <td>74</td>\n",
       "      <td>94</td>\n",
       "      <td>20</td>\n",
       "      <td>1</td>\n",
       "      <td>0</td>\n",
       "    </tr>\n",
       "    <tr>\n",
       "      <th>4</th>\n",
       "      <td>0</td>\n",
       "      <td>15</td>\n",
       "      <td>22.12974</td>\n",
       "      <td>67</td>\n",
       "      <td>174</td>\n",
       "      <td>57.0</td>\n",
       "      <td>35</td>\n",
       "      <td>74</td>\n",
       "      <td>94</td>\n",
       "      <td>20</td>\n",
       "      <td>1</td>\n",
       "      <td>0</td>\n",
       "    </tr>\n",
       "  </tbody>\n",
       "</table>\n",
       "</div>"
      ],
      "text/plain": [
       "   BQ  ESS       BMI  Weight  Height  Head  Neck  Waist  Buttock  Age  M  \\\n",
       "0   0   14  29.06593      88     174  57.5    39     96      106   20  1   \n",
       "1   0    8  26.98962      78     170  57.0    36     90      100   20  1   \n",
       "2   0   16  23.93948      75     177  59.0    39     88      104   20  1   \n",
       "3   0   15  22.12974      67     174  57.0    35     74       94   20  1   \n",
       "4   0   15  22.12974      67     174  57.0    35     74       94   20  1   \n",
       "\n",
       "   status  \n",
       "0       0  \n",
       "1       0  \n",
       "2       0  \n",
       "3       0  \n",
       "4       0  "
      ]
     },
     "execution_count": 3,
     "metadata": {},
     "output_type": "execute_result"
    }
   ],
   "source": [
    "df=pd.read_csv('sample.csv')  \n",
    "df.head()"
   ]
  },
  {
   "cell_type": "code",
   "execution_count": 7,
   "id": "6436829d",
   "metadata": {},
   "outputs": [
    {
     "data": {
      "text/plain": [
       "(11520, 12)"
      ]
     },
     "execution_count": 7,
     "metadata": {},
     "output_type": "execute_result"
    }
   ],
   "source": [
    "df.shape"
   ]
  },
  {
   "cell_type": "code",
   "execution_count": 8,
   "id": "54b90f29",
   "metadata": {},
   "outputs": [],
   "source": [
    "p=df.drop('status',axis=1)\n",
    "q=df['status']"
   ]
  },
  {
   "cell_type": "code",
   "execution_count": 18,
   "id": "5bb8ee8f",
   "metadata": {},
   "outputs": [
    {
     "name": "stdout",
     "output_type": "stream",
     "text": [
      "X_train (9216, 11)\n",
      "y_train (9216,)\n",
      "X_test (2304, 11)\n",
      "y_test (2304,)\n"
     ]
    }
   ],
   "source": [
    "from sklearn.model_selection import train_test_split\n",
    "X_train, X_test, y_train, y_test = train_test_split(p, q, test_size=.2)\n",
    "print('X_train', X_train.shape)\n",
    "print('y_train', y_train.shape)\n",
    "print('X_test', X_test.shape)\n",
    "print('y_test', y_test.shape)"
   ]
  },
  {
   "cell_type": "code",
   "execution_count": 19,
   "id": "0971d034",
   "metadata": {},
   "outputs": [],
   "source": [
    "def evaluate(model, X_test , y_test,modelname):\n",
    "  y_pred1=model.predict(X_test)\n",
    "  #precision    = precision_score(y_test, y_pred1)\n",
    " # recall       = recall_score(y_test, y_pred1)\n",
    " # f1score      = f1_score(y_test, y_pred1) \n",
    " # rocauc       = roc_auc_score(y_test, y_pred1)\n",
    "  #logloss      = log_loss(y_test, y_pred1)\n",
    "  accuracy     = accuracy_score(y_test, y_pred1)\n",
    "  classification=classification_report(y_test, y_pred1)\n",
    "  confusion    = confusion_matrix(y_test, y_pred1)\n",
    "  df_model2 = pd.DataFrame({  'model'        : [modelname],\n",
    "                             'accuracy'     : [accuracy],\n",
    "                           'classification':[classification],\n",
    "                             #'precision'    : [precision],\n",
    "                             #'recall'       : [recall],\n",
    "                             #'f1score'      : [f1score],\n",
    "                             #'rocauc'       : [rocauc],\n",
    "                            # 'logloss'      : [logloss],\n",
    "                             'timetaken'    : [time2],\n",
    "                            'confusionmatrix' : [confusion]\n",
    "                            \n",
    "                                }) \n",
    "  return df_model2"
   ]
  },
  {
   "cell_type": "code",
   "execution_count": 20,
   "id": "c961e66f",
   "metadata": {},
   "outputs": [
    {
     "name": "stdout",
     "output_type": "stream",
     "text": [
      "base model\n",
      "Random Forest\n",
      "{'bootstrap': True, 'ccp_alpha': 0.0, 'class_weight': None, 'criterion': 'gini', 'max_depth': None, 'max_features': 'sqrt', 'max_leaf_nodes': None, 'max_samples': None, 'min_impurity_decrease': 0.0, 'min_samples_leaf': 1, 'min_samples_split': 2, 'min_weight_fraction_leaf': 0.0, 'n_estimators': 100, 'n_jobs': None, 'oob_score': False, 'random_state': 0, 'verbose': 0, 'warm_start': False}\n",
      "          model  accuracy                                     classification  \\\n",
      "0  RandomForest  0.907986                precision    recall  f1-score   ...   \n",
      "\n",
      "   timetaken                                    confusionmatrix  \n",
      "0   0.797824  [[442, 6, 5, 104], [1, 587, 0, 0], [0, 0, 599,...  \n",
      "CPU times: total: 812 ms\n",
      "Wall time: 798 ms\n"
     ]
    }
   ],
   "source": [
    "%%time\n",
    "time2=time.time()\n",
    "print(\"base model\")\n",
    "base_model = RandomForestClassifier(random_state=0)\n",
    "base_model.fit(X_train, y_train)\n",
    "#base_accuracy = evaluate(base_model, X_test, y_test,modelname)\n",
    "model11 = evaluate(base_model,  X_test,  y_test, 'RandomForest')\n",
    "model11.timetaken[0] = time.time() - time2\n",
    "print(\"Random Forest\")\n",
    "print(base_model.get_params())\n",
    "print(model11)\n",
    "\n"
   ]
  },
  {
   "cell_type": "code",
   "execution_count": 21,
   "id": "d75d2dd6",
   "metadata": {},
   "outputs": [],
   "source": [
    "import pickle\n",
    "# open a file, where you ant to store the data\n",
    "file = open('random_forest_classifier_BalancedData1_model.pkl', 'wb')\n",
    "\n",
    "# dump information to that file\n",
    "pickle.dump(base_model, file)"
   ]
  },
  {
   "cell_type": "code",
   "execution_count": null,
   "id": "8f5be5e5",
   "metadata": {},
   "outputs": [],
   "source": []
  }
 ],
 "metadata": {
  "kernelspec": {
   "display_name": "Python 3 (ipykernel)",
   "language": "python",
   "name": "python3"
  },
  "language_info": {
   "codemirror_mode": {
    "name": "ipython",
    "version": 3
   },
   "file_extension": ".py",
   "mimetype": "text/x-python",
   "name": "python",
   "nbconvert_exporter": "python",
   "pygments_lexer": "ipython3",
   "version": "3.9.12"
  }
 },
 "nbformat": 4,
 "nbformat_minor": 5
}
